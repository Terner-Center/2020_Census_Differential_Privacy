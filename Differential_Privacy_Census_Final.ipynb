{
 "cells": [
  {
   "cell_type": "code",
   "execution_count": 56,
   "id": "93d91bdf",
   "metadata": {},
   "outputs": [
    {
     "data": {
      "text/plain": [
       "RendererRegistry.enable('png')"
      ]
     },
     "execution_count": 56,
     "metadata": {},
     "output_type": "execute_result"
    }
   ],
   "source": [
    "import pandas as pd\n",
    "import numpy as np \n",
    "import altair as alt\n",
    "import seaborn as sns\n",
    "import numpy as np\n",
    "import matplotlib.pyplot as plt  \n",
    "import os\n",
    "from urllib.request import urlopen\n",
    "import zipfile\n",
    "import warnings\n",
    "\n",
    "pd.set_option('display.float_format', '{:.2f}'.format)\n",
    "pd.set_option('display.max_columns', None)\n",
    "warnings.filterwarnings('ignore')\n",
    "#alt.renderers.enable('altair_saver', fmts=['vega-lite', 'png']) # Only need this have static altair images \n",
    "                                                                # render on github b/c github scrubs javascript\n",
    "                                                                # can remove if running locally \n",
    "#alt.renderers.enable('altair_viewer')\n",
    "alt.renderers.enable('png')"
   ]
  },
  {
   "cell_type": "markdown",
   "id": "2fe5855c",
   "metadata": {},
   "source": [
    "### The code below examines the differences between published 2010 decennial census data vs. the same data had the Census Bureau's new differentially private algorithm been applied to it"
   ]
  },
  {
   "cell_type": "markdown",
   "id": "9b657106",
   "metadata": {},
   "source": [
    "The check_for_download function will check to see if the block group level CSV exists for the 2021-06-08 Privacy Protected 2010 Census Demonstration Data in the users current directory, and download it from IPUMS if not. David Van Riper, Tracy Kugler, and Jonathan Schroeder. IPUMS NHGIS Privacy-Protected 2010 Census Demonstration Data, version 20210608 [Database]. Minneapolis, MN: IPUMS. 2020. https://www.nhgis.org/privacy-protected-2010-census-demonstration-data#v20210608 "
   ]
  },
  {
   "cell_type": "code",
   "execution_count": 2,
   "id": "e900d629",
   "metadata": {},
   "outputs": [],
   "source": [
    "def check_for_download(filename,zip_location,zip_name):\n",
    "    \"\"\"\n",
    "    inputs:\n",
    "        filename (str) - name of csv downloaded \n",
    "        zip_location (str) - location of zip file \n",
    "        zip_name (str) - name of the zip file downloaded from the zip location to open \n",
    "        \n",
    "    Here checking to see if the data is in the current directory, if not, downloading and unzipping \n",
    "    it to the current directory (can place is somewhere else by modifying filepath of zip_directory)\n",
    "    \"\"\"\n",
    "    if os.path.isfile(filename):\n",
    "        df = pd.read_csv(filename)\n",
    "        return df\n",
    "    else:\n",
    "        zip_directory = os.getcwd()\n",
    "        url = urlopen(zip_location)\n",
    "        output = open(zip_name, 'wb')           \n",
    "        output.write(url.read())\n",
    "        output.close()\n",
    "        with zipfile.ZipFile(zip_name, 'r') as zip_ref:\n",
    "            zip_ref.extractall(zip_directory)\n",
    "        df = pd.read_csv(filename)\n",
    "    return df\n",
    "#~/Desktop/work/diff_privacy/block_discrepancies_v20210428/nhgis_ppdd_20210608_blck_grp\n",
    "df = check_for_download(\"nhgis_ppdd_20210608_blck_grp.csv\",\"https://assets.nhgis.org/differential-privacy/v20210608/nhgis_ppdd_20210608_blck_grp.zip\",\"nhgis_ppdd_20210608_blck_grp.zip\")"
   ]
  },
  {
   "cell_type": "code",
   "execution_count": 3,
   "id": "40e82781",
   "metadata": {},
   "outputs": [],
   "source": [
    "#The census only starts to make reliability claims at block groups bigger than 550\n",
    "#so filtering out block groups with a population 550 or below \n",
    "df_big = df[df[\"H72001_dp\"] >550]"
   ]
  },
  {
   "cell_type": "code",
   "execution_count": 15,
   "id": "113af732",
   "metadata": {},
   "outputs": [],
   "source": [
    "#rearrrange data for analysis \n",
    "ca = df_big.melt(id_vars=['gisjoin', 'name', 'state'])\n",
    "ca['code'] = ca.variable.apply(lambda x: x.split('_')[0])\n",
    "ca['method'] = ca.variable.apply(lambda x: x.split('_')[1])\n",
    "ca = ca.pivot_table(index=['gisjoin', 'name', 'state', 'code'], columns='method', values=['value']).reset_index()\n",
    "ca.columns = ['gisjoin', 'name', 'state', 'code', 'dp_value', 'sf_value']\n",
    "\n",
    "#calculate the percent change (and its absolute value) between the two meathods\n",
    "ca['pct_change'] = ((ca.dp_value - ca.sf_value)/ca.sf_value)*100\n",
    "ca[\"pct_change_absolute_value\"] = np.abs(ca[\"pct_change\"])\n",
    "#drop cases where this can't be calculated \n",
    "ca.replace([np.inf, -np.inf], np.nan, inplace=True)\n",
    "ca = ca.dropna(subset=[\"pct_change\"], how=\"all\")\n",
    "#calculate total value changes \n",
    "ca[\"total_difference\"] = ca[\"dp_value\"] - ca[\"sf_value\"]\n",
    "ca[\"total_difference_absolute_value\"] = np.abs(ca[\"total_difference\"]) "
   ]
  },
  {
   "cell_type": "code",
   "execution_count": 16,
   "id": "f43da85c",
   "metadata": {},
   "outputs": [],
   "source": [
    "#subset to total population counts, as well as by a few large racial categories \n",
    "total = ca[ca.code == \"H72001\"]\n",
    "black = ca[ca.code == \"H72004\"]\n",
    "asian= ca[ca.code==\"H72006\"]\n",
    "white= ca[ca.code==\"H73005\"]"
   ]
  },
  {
   "cell_type": "code",
   "execution_count": 17,
   "id": "1b322c97",
   "metadata": {},
   "outputs": [],
   "source": [
    "def check_thresholds(df, bins,labels,race):\n",
    "    df[\"Population Bins\"]= pd.cut(df['sf_value'], bins=cut_bins,labels=cut_labels)\n",
    "    df_percent_change = df.groupby(\"Population Bins\").agg(['mean','std']).reset_index()\n",
    "    \n",
    "    #flatten col names \n",
    "    df_percent_change.columns = [' '.join(col).strip() for col in df_percent_change.columns.values]\n",
    "    \n",
    "    #make upper and lower bound with std for charting\n",
    "    df_percent_change[\"lower_bound_pct_change\"] = df_percent_change[\"pct_change_absolute_value mean\"] - df_percent_change[\"pct_change_absolute_value std\"]\n",
    "    df_percent_change[\"upper_bound_pct_change\"] = df_percent_change[\"pct_change_absolute_value mean\"] + df_percent_change[\"pct_change_absolute_value std\"]\n",
    "\n",
    "    df_percent_change[\"lower_bound_total_value\"] = df_percent_change[\"total_difference_absolute_value mean\"] - df_percent_change[\"total_difference_absolute_value std\"]\n",
    "    df_percent_change[\"upper_bound_total_value\"] = df_percent_change[\"total_difference_absolute_value mean\"] + df_percent_change[\"total_difference_absolute_value std\"]                                                                     \n",
    "    df_percent_change[\"race\"] = race \n",
    "    \n",
    "    return df_percent_change"
   ]
  },
  {
   "cell_type": "code",
   "execution_count": 19,
   "id": "9ff2dc3f",
   "metadata": {},
   "outputs": [],
   "source": [
    "cut_bins = [0, 25, 50, 150,350, 3372.00]\n",
    "cut_labels = ['0-25', '25-50', '50-150', \"150-350\",\"350+\"]\n",
    "\n",
    "black_percent_change = check_thresholds(black,cut_bins,cut_labels,\"Black\")\n",
    "asian_percent_change = check_thresholds(asian,cut_bins,cut_labels,\"Asian\")\n",
    "nh_white_percent_change = check_thresholds(white,cut_bins,cut_labels,\"Non-Hispanic White\")"
   ]
  },
  {
   "cell_type": "markdown",
   "id": "493bc1f3",
   "metadata": {},
   "source": [
    "Note: the figures below are written in altair, which won't render on github but makes, I believe, beautiful graphics. "
   ]
  },
  {
   "cell_type": "code",
   "execution_count": null,
   "id": "6d2dc2c9",
   "metadata": {},
   "outputs": [],
   "source": [
    "#add figure 1 "
   ]
  },
  {
   "cell_type": "code",
   "execution_count": 57,
   "id": "e8c5a999",
   "metadata": {},
   "outputs": [
    {
     "ename": "ValueError",
     "evalue": "No enabled saver found that supports format='png'",
     "output_type": "error",
     "traceback": [
      "\u001b[0;31m---------------------------------------------------------------------------\u001b[0m",
      "\u001b[0;31mValueError\u001b[0m                                Traceback (most recent call last)",
      "\u001b[0;32m~/.virtualenvs/default/lib/python3.9/site-packages/IPython/core/formatters.py\u001b[0m in \u001b[0;36m__call__\u001b[0;34m(self, obj, include, exclude)\u001b[0m\n\u001b[1;32m    968\u001b[0m \u001b[0;34m\u001b[0m\u001b[0m\n\u001b[1;32m    969\u001b[0m             \u001b[0;32mif\u001b[0m \u001b[0mmethod\u001b[0m \u001b[0;32mis\u001b[0m \u001b[0;32mnot\u001b[0m \u001b[0;32mNone\u001b[0m\u001b[0;34m:\u001b[0m\u001b[0;34m\u001b[0m\u001b[0;34m\u001b[0m\u001b[0m\n\u001b[0;32m--> 970\u001b[0;31m                 \u001b[0;32mreturn\u001b[0m \u001b[0mmethod\u001b[0m\u001b[0;34m(\u001b[0m\u001b[0minclude\u001b[0m\u001b[0;34m=\u001b[0m\u001b[0minclude\u001b[0m\u001b[0;34m,\u001b[0m \u001b[0mexclude\u001b[0m\u001b[0;34m=\u001b[0m\u001b[0mexclude\u001b[0m\u001b[0;34m)\u001b[0m\u001b[0;34m\u001b[0m\u001b[0;34m\u001b[0m\u001b[0m\n\u001b[0m\u001b[1;32m    971\u001b[0m             \u001b[0;32mreturn\u001b[0m \u001b[0;32mNone\u001b[0m\u001b[0;34m\u001b[0m\u001b[0;34m\u001b[0m\u001b[0m\n\u001b[1;32m    972\u001b[0m         \u001b[0;32melse\u001b[0m\u001b[0;34m:\u001b[0m\u001b[0;34m\u001b[0m\u001b[0;34m\u001b[0m\u001b[0m\n",
      "\u001b[0;32m~/.virtualenvs/default/lib/python3.9/site-packages/altair/vegalite/v4/api.py\u001b[0m in \u001b[0;36m_repr_mimebundle_\u001b[0;34m(self, include, exclude)\u001b[0m\n\u001b[1;32m   1652\u001b[0m             \u001b[0;32mreturn\u001b[0m \u001b[0;34m{\u001b[0m\u001b[0;34m}\u001b[0m\u001b[0;34m\u001b[0m\u001b[0;34m\u001b[0m\u001b[0m\n\u001b[1;32m   1653\u001b[0m         \u001b[0;32melse\u001b[0m\u001b[0;34m:\u001b[0m\u001b[0;34m\u001b[0m\u001b[0;34m\u001b[0m\u001b[0m\n\u001b[0;32m-> 1654\u001b[0;31m             \u001b[0;32mreturn\u001b[0m \u001b[0mrenderers\u001b[0m\u001b[0;34m.\u001b[0m\u001b[0mget\u001b[0m\u001b[0;34m(\u001b[0m\u001b[0;34m)\u001b[0m\u001b[0;34m(\u001b[0m\u001b[0mdct\u001b[0m\u001b[0;34m)\u001b[0m\u001b[0;34m\u001b[0m\u001b[0;34m\u001b[0m\u001b[0m\n\u001b[0m\u001b[1;32m   1655\u001b[0m \u001b[0;34m\u001b[0m\u001b[0m\n\u001b[1;32m   1656\u001b[0m     \u001b[0;32mdef\u001b[0m \u001b[0mdisplay\u001b[0m\u001b[0;34m(\u001b[0m\u001b[0mself\u001b[0m\u001b[0;34m,\u001b[0m \u001b[0mrenderer\u001b[0m\u001b[0;34m=\u001b[0m\u001b[0mUndefined\u001b[0m\u001b[0;34m,\u001b[0m \u001b[0mtheme\u001b[0m\u001b[0;34m=\u001b[0m\u001b[0mUndefined\u001b[0m\u001b[0;34m,\u001b[0m \u001b[0mactions\u001b[0m\u001b[0;34m=\u001b[0m\u001b[0mUndefined\u001b[0m\u001b[0;34m,\u001b[0m \u001b[0;34m**\u001b[0m\u001b[0mkwargs\u001b[0m\u001b[0;34m)\u001b[0m\u001b[0;34m:\u001b[0m\u001b[0;34m\u001b[0m\u001b[0;34m\u001b[0m\u001b[0m\n",
      "\u001b[0;32m~/.virtualenvs/default/lib/python3.9/site-packages/altair/vegalite/v4/display.py\u001b[0m in \u001b[0;36mpng_renderer\u001b[0;34m(spec, **metadata)\u001b[0m\n\u001b[1;32m     51\u001b[0m \u001b[0;34m\u001b[0m\u001b[0m\n\u001b[1;32m     52\u001b[0m \u001b[0;32mdef\u001b[0m \u001b[0mpng_renderer\u001b[0m\u001b[0;34m(\u001b[0m\u001b[0mspec\u001b[0m\u001b[0;34m,\u001b[0m \u001b[0;34m**\u001b[0m\u001b[0mmetadata\u001b[0m\u001b[0;34m)\u001b[0m\u001b[0;34m:\u001b[0m\u001b[0;34m\u001b[0m\u001b[0;34m\u001b[0m\u001b[0m\n\u001b[0;32m---> 53\u001b[0;31m     return spec_to_mimebundle(\n\u001b[0m\u001b[1;32m     54\u001b[0m         \u001b[0mspec\u001b[0m\u001b[0;34m,\u001b[0m\u001b[0;34m\u001b[0m\u001b[0;34m\u001b[0m\u001b[0m\n\u001b[1;32m     55\u001b[0m         \u001b[0mformat\u001b[0m\u001b[0;34m=\u001b[0m\u001b[0;34m\"png\"\u001b[0m\u001b[0;34m,\u001b[0m\u001b[0;34m\u001b[0m\u001b[0;34m\u001b[0m\u001b[0m\n",
      "\u001b[0;32m~/.virtualenvs/default/lib/python3.9/site-packages/altair/utils/mimebundle.py\u001b[0m in \u001b[0;36mspec_to_mimebundle\u001b[0;34m(spec, format, mode, vega_version, vegaembed_version, vegalite_version, **kwargs)\u001b[0m\n\u001b[1;32m     58\u001b[0m                 \u001b[0;34m\"see http://github.com/altair-viz/altair_saver/\"\u001b[0m\u001b[0;34m.\u001b[0m\u001b[0mformat\u001b[0m\u001b[0;34m(\u001b[0m\u001b[0mfmt\u001b[0m\u001b[0;34m=\u001b[0m\u001b[0mformat\u001b[0m\u001b[0;34m)\u001b[0m\u001b[0;34m\u001b[0m\u001b[0;34m\u001b[0m\u001b[0m\n\u001b[1;32m     59\u001b[0m             )\n\u001b[0;32m---> 60\u001b[0;31m         \u001b[0;32mreturn\u001b[0m \u001b[0maltair_saver\u001b[0m\u001b[0;34m.\u001b[0m\u001b[0mrender\u001b[0m\u001b[0;34m(\u001b[0m\u001b[0mspec\u001b[0m\u001b[0;34m,\u001b[0m \u001b[0mformat\u001b[0m\u001b[0;34m,\u001b[0m \u001b[0mmode\u001b[0m\u001b[0;34m=\u001b[0m\u001b[0mmode\u001b[0m\u001b[0;34m,\u001b[0m \u001b[0;34m**\u001b[0m\u001b[0mkwargs\u001b[0m\u001b[0;34m)\u001b[0m\u001b[0;34m\u001b[0m\u001b[0;34m\u001b[0m\u001b[0m\n\u001b[0m\u001b[1;32m     61\u001b[0m     \u001b[0;32mif\u001b[0m \u001b[0mformat\u001b[0m \u001b[0;34m==\u001b[0m \u001b[0;34m\"html\"\u001b[0m\u001b[0;34m:\u001b[0m\u001b[0;34m\u001b[0m\u001b[0;34m\u001b[0m\u001b[0m\n\u001b[1;32m     62\u001b[0m         html = spec_to_html(\n",
      "\u001b[0;32m~/.virtualenvs/default/lib/python3.9/site-packages/altair_saver/_core.py\u001b[0m in \u001b[0;36mrender\u001b[0;34m(chart, fmts, mode, embed_options, method, **kwargs)\u001b[0m\n\u001b[1;32m    253\u001b[0m \u001b[0;34m\u001b[0m\u001b[0m\n\u001b[1;32m    254\u001b[0m     \u001b[0;32mfor\u001b[0m \u001b[0mfmt\u001b[0m \u001b[0;32min\u001b[0m \u001b[0mfmts\u001b[0m\u001b[0;34m:\u001b[0m\u001b[0;34m\u001b[0m\u001b[0;34m\u001b[0m\u001b[0m\n\u001b[0;32m--> 255\u001b[0;31m         \u001b[0mSaver\u001b[0m \u001b[0;34m=\u001b[0m \u001b[0m_select_saver\u001b[0m\u001b[0;34m(\u001b[0m\u001b[0mmethod\u001b[0m\u001b[0;34m,\u001b[0m \u001b[0mmode\u001b[0m\u001b[0;34m=\u001b[0m\u001b[0mmode\u001b[0m\u001b[0;34m,\u001b[0m \u001b[0mfmt\u001b[0m\u001b[0;34m=\u001b[0m\u001b[0mfmt\u001b[0m\u001b[0;34m)\u001b[0m\u001b[0;34m\u001b[0m\u001b[0;34m\u001b[0m\u001b[0m\n\u001b[0m\u001b[1;32m    256\u001b[0m         \u001b[0msaver\u001b[0m \u001b[0;34m=\u001b[0m \u001b[0mSaver\u001b[0m\u001b[0;34m(\u001b[0m\u001b[0mspec\u001b[0m\u001b[0;34m,\u001b[0m \u001b[0mmode\u001b[0m\u001b[0;34m=\u001b[0m\u001b[0mmode\u001b[0m\u001b[0;34m,\u001b[0m \u001b[0membed_options\u001b[0m\u001b[0;34m=\u001b[0m\u001b[0membed_options\u001b[0m\u001b[0;34m,\u001b[0m \u001b[0;34m**\u001b[0m\u001b[0mkwargs\u001b[0m\u001b[0;34m)\u001b[0m\u001b[0;34m\u001b[0m\u001b[0;34m\u001b[0m\u001b[0m\n\u001b[1;32m    257\u001b[0m         \u001b[0mmimebundle\u001b[0m\u001b[0;34m.\u001b[0m\u001b[0mupdate\u001b[0m\u001b[0;34m(\u001b[0m\u001b[0msaver\u001b[0m\u001b[0;34m.\u001b[0m\u001b[0mmimebundle\u001b[0m\u001b[0;34m(\u001b[0m\u001b[0mfmt\u001b[0m\u001b[0;34m)\u001b[0m\u001b[0;34m)\u001b[0m\u001b[0;34m\u001b[0m\u001b[0;34m\u001b[0m\u001b[0m\n",
      "\u001b[0;32m~/.virtualenvs/default/lib/python3.9/site-packages/altair_saver/_core.py\u001b[0m in \u001b[0;36m_select_saver\u001b[0;34m(method, mode, fmt, fp)\u001b[0m\n\u001b[1;32m     67\u001b[0m             \u001b[0;32mif\u001b[0m \u001b[0ms\u001b[0m\u001b[0;34m.\u001b[0m\u001b[0menabled\u001b[0m\u001b[0;34m(\u001b[0m\u001b[0;34m)\u001b[0m \u001b[0;32mand\u001b[0m \u001b[0mfmt\u001b[0m \u001b[0;32min\u001b[0m \u001b[0ms\u001b[0m\u001b[0;34m.\u001b[0m\u001b[0mvalid_formats\u001b[0m\u001b[0;34m[\u001b[0m\u001b[0mmode\u001b[0m\u001b[0;34m]\u001b[0m\u001b[0;34m:\u001b[0m\u001b[0;34m\u001b[0m\u001b[0;34m\u001b[0m\u001b[0m\n\u001b[1;32m     68\u001b[0m                 \u001b[0;32mreturn\u001b[0m \u001b[0ms\u001b[0m\u001b[0;34m\u001b[0m\u001b[0;34m\u001b[0m\u001b[0m\n\u001b[0;32m---> 69\u001b[0;31m         \u001b[0;32mraise\u001b[0m \u001b[0mValueError\u001b[0m\u001b[0;34m(\u001b[0m\u001b[0;34mf\"No enabled saver found that supports format={fmt!r}\"\u001b[0m\u001b[0;34m)\u001b[0m\u001b[0;34m\u001b[0m\u001b[0;34m\u001b[0m\u001b[0m\n\u001b[0m\u001b[1;32m     70\u001b[0m     \u001b[0;32melse\u001b[0m\u001b[0;34m:\u001b[0m\u001b[0;34m\u001b[0m\u001b[0;34m\u001b[0m\u001b[0m\n\u001b[1;32m     71\u001b[0m         \u001b[0;32mraise\u001b[0m \u001b[0mValueError\u001b[0m\u001b[0;34m(\u001b[0m\u001b[0;34mf\"Unrecognized method: {method}\"\u001b[0m\u001b[0;34m)\u001b[0m\u001b[0;34m\u001b[0m\u001b[0;34m\u001b[0m\u001b[0m\n",
      "\u001b[0;31mValueError\u001b[0m: No enabled saver found that supports format='png'"
     ]
    },
    {
     "data": {
      "text/plain": [
       "alt.Chart(...)"
      ]
     },
     "execution_count": 57,
     "metadata": {},
     "output_type": "execute_result"
    }
   ],
   "source": [
    "#figure 2\n",
    "alt.Chart(black_percent_change).mark_bar().encode(\n",
    "    alt.X('Population Bins:O',title=\"Number of Black People in Block Group\", sort=['0-25', '25-50', '50-150', \"150-350\",\"350+\"],axis=alt.Axis( labelAngle=-45)),\n",
    "    alt.Y('pct_change_absolute_value mean',title=\"Percent Difference\"),color=alt.Color('Population Bins:O',title=\"\",legend=None,scale=alt.Scale(domain=['0-25', '25-50', '50-150', \"150-350\",\"350+\"],range=[\"#4E748B\",\"#FFB81D\",\"#B7B09D\",\"#00B3E3\",\"#E74C39\"]))).properties(\n",
    "    title={\n",
    "      \"text\": [\"Average Percentage Difference in California 2010 Black Population\",\n",
    "               \"between Census Privacy Methods\",\" by Block Group Subpopulation Size\"],\n",
    "    \"subtitle\":[\"Terner Center analysis of IPUMS NHGIS Census Data\"]}).configure_title(fontSize=20,anchor=\"middle\",font=\"Georgia\").configure_legend(direction=\"vertical\",labelLimit= 0,titleLimit=0,titleFontSize=18,\n",
    "labelFontSize=20,labelFont=\"Georgia\",titleFont=\"Georgia\",orient=\"bottom\").configure_axis(domain=False,labelFont='Georgia',titleFont='Georgia',titleFontWeight=\"normal\",labelFontSize=15,titleFontSize=15).properties(\n",
    "    width=400\n",
    ")"
   ]
  },
  {
   "cell_type": "code",
   "execution_count": 38,
   "id": "ab3f0479",
   "metadata": {},
   "outputs": [
    {
     "data": {
      "text/html": [
       "\n",
       "<div id=\"altair-viz-c8878ec3c2d84c20b0a83698b5143a24\"></div>\n",
       "<script type=\"text/javascript\">\n",
       "  (function(spec, embedOpt){\n",
       "    let outputDiv = document.currentScript.previousElementSibling;\n",
       "    if (outputDiv.id !== \"altair-viz-c8878ec3c2d84c20b0a83698b5143a24\") {\n",
       "      outputDiv = document.getElementById(\"altair-viz-c8878ec3c2d84c20b0a83698b5143a24\");\n",
       "    }\n",
       "    const paths = {\n",
       "      \"vega\": \"https://cdn.jsdelivr.net/npm//vega@5?noext\",\n",
       "      \"vega-lib\": \"https://cdn.jsdelivr.net/npm//vega-lib?noext\",\n",
       "      \"vega-lite\": \"https://cdn.jsdelivr.net/npm//vega-lite@4.8.1?noext\",\n",
       "      \"vega-embed\": \"https://cdn.jsdelivr.net/npm//vega-embed@6?noext\",\n",
       "    };\n",
       "\n",
       "    function loadScript(lib) {\n",
       "      return new Promise(function(resolve, reject) {\n",
       "        var s = document.createElement('script');\n",
       "        s.src = paths[lib];\n",
       "        s.async = true;\n",
       "        s.onload = () => resolve(paths[lib]);\n",
       "        s.onerror = () => reject(`Error loading script: ${paths[lib]}`);\n",
       "        document.getElementsByTagName(\"head\")[0].appendChild(s);\n",
       "      });\n",
       "    }\n",
       "\n",
       "    function showError(err) {\n",
       "      outputDiv.innerHTML = `<div class=\"error\" style=\"color:red;\">${err}</div>`;\n",
       "      throw err;\n",
       "    }\n",
       "\n",
       "    function displayChart(vegaEmbed) {\n",
       "      vegaEmbed(outputDiv, spec, embedOpt)\n",
       "        .catch(err => showError(`Javascript Error: ${err.message}<br>This usually means there's a typo in your chart specification. See the javascript console for the full traceback.`));\n",
       "    }\n",
       "\n",
       "    if(typeof define === \"function\" && define.amd) {\n",
       "      requirejs.config({paths});\n",
       "      require([\"vega-embed\"], displayChart, err => showError(`Error loading script: ${err.message}`));\n",
       "    } else if (typeof vegaEmbed === \"function\") {\n",
       "      displayChart(vegaEmbed);\n",
       "    } else {\n",
       "      loadScript(\"vega\")\n",
       "        .then(() => loadScript(\"vega-lite\"))\n",
       "        .then(() => loadScript(\"vega-embed\"))\n",
       "        .catch(showError)\n",
       "        .then(() => displayChart(vegaEmbed));\n",
       "    }\n",
       "  })({\"config\": {\"view\": {\"continuousWidth\": 400, \"continuousHeight\": 300}, \"axis\": {\"domain\": false, \"labelFont\": \"Georgia\", \"labelFontSize\": 15, \"titleFont\": \"Georgia\", \"titleFontSize\": 15, \"titleFontWeight\": \"normal\"}, \"legend\": {\"direction\": \"vertical\", \"labelFont\": \"Georgia\", \"labelFontSize\": 20, \"labelLimit\": 0, \"orient\": \"bottom\", \"titleFont\": \"Georgia\", \"titleFontSize\": 18, \"titleLimit\": 0}, \"title\": {\"anchor\": \"middle\", \"font\": \"Georgia\", \"fontSize\": 20}}, \"layer\": [{\"mark\": \"bar\", \"encoding\": {\"color\": {\"type\": \"ordinal\", \"field\": \"Population Bins\", \"legend\": null, \"scale\": {\"domain\": [\"0-25\", \"25-50\", \"50-150\", \"150-350\", \"350+\"], \"range\": [\"#4E748B\", \"#FFB81D\", \"#B7B09D\", \"#00B3E3\", \"#E74C39\"]}, \"title\": \"\"}, \"x\": {\"type\": \"ordinal\", \"axis\": {\"labelAngle\": -45}, \"field\": \"Population Bins\", \"sort\": [\"0-25\", \"25-50\", \"50-150\", \"150-250\", \"250+\"], \"title\": \"Number of Black People in Block Group\"}, \"y\": {\"type\": \"quantitative\", \"field\": \"total_difference_absolute_value mean\", \"title\": \"Difference in Number of People\"}}}, {\"mark\": {\"type\": \"rule\", \"color\": \"#000000\"}, \"encoding\": {\"x\": {\"type\": \"ordinal\", \"field\": \"Population Bins\", \"sort\": [\"0-25\", \"25-50\", \"50-150\", \"150-250\", \"250+\"], \"title\": \"Number of Black People in Block Group\"}, \"y\": {\"type\": \"quantitative\", \"field\": \"lower_bound_total_value\"}, \"y2\": {\"field\": \"upper_bound_total_value\"}}}], \"data\": {\"name\": \"data-48d1f11c62c3168de4dedca45a344eca\"}, \"title\": {\"text\": [\"Average Absolute Difference in California 2010 Black Population\", \"between Census Privacy Methods\", \" by Block Group Subpopulation Size\"], \"subtitle\": [\"Terner Center analysis of IPUMS NHGIS Census Data\"]}, \"width\": 400, \"$schema\": \"https://vega.github.io/schema/vega-lite/v4.8.1.json\", \"datasets\": {\"data-48d1f11c62c3168de4dedca45a344eca\": [{\"Population Bins\": \"0-25\", \"state mean\": 28.802298296571582, \"state std\": 15.80865553572279, \"dp_value mean\": 10.42113874760594, \"dp_value std\": 8.166520616656978, \"sf_value mean\": 9.996702223462412, \"sf_value std\": 6.980171545666077, \"pct_change mean\": 19.46056085530989, \"pct_change std\": 105.28113566651004, \"pct_change_absolute_value mean\": 56.968629845624946, \"pct_change_absolute_value std\": 90.64970936752673, \"total_difference mean\": 0.4244365241435294, \"total_difference std\": 4.863632632297151, \"total_difference_absolute_value mean\": 3.490988191423244, \"total_difference_absolute_value std\": 3.412904613141407, \"lower_bound_pct_change\": -33.68107952190178, \"upper_bound_pct_change\": 147.61833921315167, \"lower_bound_total_value\": 0.07808357828183699, \"upper_bound_total_value\": 6.903892804564651, \"race\": \"Black\"}, {\"Population Bins\": \"25-50\", \"state mean\": 27.2837441314554, \"state std\": 16.50249759673481, \"dp_value mean\": 36.33201291079812, \"dp_value std\": 10.292249731996126, \"sf_value mean\": 36.63849765258216, \"sf_value std\": 7.194254047889438, \"pct_change mean\": -0.8413312270031464, \"pct_change std\": 20.93392961164399, \"pct_change_absolute_value mean\": 15.911634955301878, \"pct_change_absolute_value std\": 13.628934648306236, \"total_difference mean\": -0.30648474178403756, \"total_difference std\": 7.396795115525411, \"total_difference_absolute_value mean\": 5.669600938967136, \"total_difference_absolute_value std\": 4.76035297732234, \"lower_bound_pct_change\": 2.2827003069956415, \"upper_bound_pct_change\": 29.540569603608112, \"lower_bound_total_value\": 0.9092479616447964, \"upper_bound_total_value\": 10.429953916289476, \"race\": \"Black\"}, {\"Population Bins\": \"50-150\", \"state mean\": 28.45454988190031, \"state std\": 17.393666006255224, \"dp_value mean\": 89.72664182920593, \"dp_value std\": 29.5857506830673, \"sf_value mean\": 90.36204251588867, \"sf_value std\": 28.342677836348233, \"pct_change mean\": -0.7185600951461597, \"pct_change std\": 11.00110510467463, \"pct_change_absolute_value mean\": 8.246342015423457, \"pct_change_absolute_value std\": 7.316887463169367, \"total_difference mean\": -0.635400686682738, \"total_difference std\": 8.939764789895431, \"total_difference_absolute_value mean\": 6.892346653030414, \"total_difference_absolute_value std\": 5.728659458747576, \"lower_bound_pct_change\": 0.9294545522540894, \"upper_bound_pct_change\": 15.563229478592824, \"lower_bound_total_value\": 1.1636871942828373, \"upper_bound_total_value\": 12.62100611177799, \"race\": \"Black\"}, {\"Population Bins\": \"150-350\", \"state mean\": 29.293816742588305, \"state std\": 17.426308388221443, \"dp_value mean\": 232.81390486147413, \"dp_value std\": 58.002132359681504, \"sf_value mean\": 233.64983944440297, \"sf_value std\": 56.94219576662672, \"pct_change mean\": -0.38699234716527176, \"pct_change std\": 4.869911191648589, \"pct_change_absolute_value mean\": 3.673335759262412, \"pct_change_absolute_value std\": 3.2205440908424694, \"total_difference mean\": -0.8359345829288328, \"total_difference std\": 10.602849315047418, \"total_difference_absolute_value mean\": 8.158165932342618, \"total_difference_absolute_value std\": 6.82356723093371, \"lower_bound_pct_change\": 0.45279166841994245, \"upper_bound_pct_change\": 6.893879850104881, \"lower_bound_total_value\": 1.3345987014089076, \"upper_bound_total_value\": 14.981733163276328, \"race\": \"Black\"}, {\"Population Bins\": \"350+\", \"state mean\": 28.292989571263035, \"state std\": 15.310767955430649, \"dp_value mean\": 772.734067207416, \"dp_value std\": 410.8839742280556, \"sf_value mean\": 772.3427867902665, \"sf_value std\": 409.8964880755847, \"pct_change mean\": 0.013142615689827417, \"pct_change std\": 2.0223757733624987, \"pct_change_absolute_value mean\": 1.4543793969015084, \"pct_change_absolute_value std\": 1.4053098572705083, \"total_difference mean\": 0.3912804171494786, \"total_difference std\": 12.076333372750886, \"total_difference_absolute_value mean\": 9.247247972190035, \"total_difference_absolute_value std\": 7.776686970558421, \"lower_bound_pct_change\": 0.049069539631000136, \"upper_bound_pct_change\": 2.8596892541720167, \"lower_bound_total_value\": 1.470561001631614, \"upper_bound_total_value\": 17.023934942748454, \"race\": \"Black\"}]}}, {\"mode\": \"vega-lite\"});\n",
       "</script>"
      ],
      "text/plain": [
       "alt.LayerChart(...)"
      ]
     },
     "execution_count": 38,
     "metadata": {},
     "output_type": "execute_result"
    }
   ],
   "source": [
    "#figure 3\n",
    "\n",
    "\n",
    "bars = alt.Chart(black_percent_change).mark_bar().encode(\n",
    "    alt.X('Population Bins:O',title=\"Number of Black People in Block Group\", sort=['0-25', '25-50', '50-150', \"150-250\",\"250+\"],axis=alt.Axis( labelAngle=-45)),\n",
    "    alt.Y('total_difference_absolute_value mean',title=\"Difference in Number of People\"),color=alt.Color('Population Bins:O',title=\"\",legend=None,scale=alt.Scale(domain=['0-25', \n",
    "    '25-50', '50-150', \"150-350\",\"350+\"],range=[\"#4E748B\",\"#FFB81D\",\"#B7B09D\",\"#00B3E3\",\"#E74C39\"])))\n",
    "\n",
    "\n",
    "error_bars = alt.Chart(black_percent_change).mark_rule(color=\"#000000\").encode(\n",
    "    alt.X('Population Bins:O',title=\"Number of Black People in Block Group\", sort=['0-25', '25-50', '50-150', \"150-250\",\"250+\"]),\n",
    "    y='lower_bound_total_value',\n",
    "    y2='upper_bound_total_value')\n",
    "\n",
    "layer = alt.layer(bars,error_bars).properties(\n",
    "    title={\n",
    "      \"text\": [\"Average Absolute Difference in California 2010 Black Population\",\n",
    "               \"between Census Privacy Methods\",\" by Block Group Subpopulation Size\"],\n",
    "    \"subtitle\":[\"Terner Center analysis of IPUMS NHGIS Census Data\"]}).configure_title(fontSize=20,anchor=\"middle\",font=\"Georgia\").configure_legend(direction=\"vertical\",labelLimit= 0,titleLimit=0,titleFontSize=18,\n",
    "labelFontSize=20,labelFont=\"Georgia\",titleFont=\"Georgia\",orient=\"bottom\").configure_axis(domain=False,labelFont='Georgia',titleFont='Georgia',titleFontWeight=\"normal\",labelFontSize=15,titleFontSize=15).properties(\n",
    "    width=400)\n",
    "    \n",
    "layer"
   ]
  }
 ],
 "metadata": {
  "kernelspec": {
   "display_name": "Python 3",
   "language": "python",
   "name": "python3"
  },
  "language_info": {
   "codemirror_mode": {
    "name": "ipython",
    "version": 3
   },
   "file_extension": ".py",
   "mimetype": "text/x-python",
   "name": "python",
   "nbconvert_exporter": "python",
   "pygments_lexer": "ipython3",
   "version": "3.9.5"
  }
 },
 "nbformat": 4,
 "nbformat_minor": 5
}
